{
 "cells": [
  {
   "cell_type": "code",
   "execution_count": 1,
   "id": "e428c849",
   "metadata": {},
   "outputs": [],
   "source": [
    "import numpy as np\n",
    "import pandas as pd\n",
    "import matplotlib.pyplot as plt\n",
    "import os\n",
    "import seaborn as sns"
   ]
  },
  {
   "cell_type": "code",
   "execution_count": 2,
   "id": "69834146",
   "metadata": {},
   "outputs": [],
   "source": [
    "os.getcwd()\n",
    "\n",
    "df_AnnualTicketSales = pd.read_csv(r'C:\\Users\\agrand6\\OneDrive - University of Illinois at Chicago\\Code\\DataDump\\HollwoodShows\\AnnualTicketSales.csv')"
   ]
  },
  {
   "cell_type": "code",
   "execution_count": 3,
   "id": "1c72afd5",
   "metadata": {},
   "outputs": [
    {
     "data": {
      "text/html": [
       "<div>\n",
       "<style scoped>\n",
       "    .dataframe tbody tr th:only-of-type {\n",
       "        vertical-align: middle;\n",
       "    }\n",
       "\n",
       "    .dataframe tbody tr th {\n",
       "        vertical-align: top;\n",
       "    }\n",
       "\n",
       "    .dataframe thead th {\n",
       "        text-align: right;\n",
       "    }\n",
       "</style>\n",
       "<table border=\"1\" class=\"dataframe\">\n",
       "  <thead>\n",
       "    <tr style=\"text-align: right;\">\n",
       "      <th></th>\n",
       "      <th>YEAR</th>\n",
       "      <th>TICKETS SOLD</th>\n",
       "      <th>TOTAL BOX OFFICE</th>\n",
       "      <th>TOTAL INFLATION ADJUSTED BOX OFFICE</th>\n",
       "      <th>AVERAGE TICKET PRICE</th>\n",
       "      <th>Unnamed: 5</th>\n",
       "    </tr>\n",
       "  </thead>\n",
       "  <tbody>\n",
       "    <tr>\n",
       "      <th>0</th>\n",
       "      <td>2021</td>\n",
       "      <td>42,37,74,881</td>\n",
       "      <td>$3,881,777,912</td>\n",
       "      <td>$3,881,777,912</td>\n",
       "      <td>$9.16</td>\n",
       "      <td>NaN</td>\n",
       "    </tr>\n",
       "    <tr>\n",
       "      <th>1</th>\n",
       "      <td>2020</td>\n",
       "      <td>22,36,38,958</td>\n",
       "      <td>$2,048,534,616</td>\n",
       "      <td>$2,048,534,616</td>\n",
       "      <td>$9.16</td>\n",
       "      <td>NaN</td>\n",
       "    </tr>\n",
       "    <tr>\n",
       "      <th>2</th>\n",
       "      <td>2019</td>\n",
       "      <td>1,22,85,41,629</td>\n",
       "      <td>$11,253,443,955</td>\n",
       "      <td>$11,253,444,050</td>\n",
       "      <td>$9.16</td>\n",
       "      <td>NaN</td>\n",
       "    </tr>\n",
       "    <tr>\n",
       "      <th>3</th>\n",
       "      <td>2018</td>\n",
       "      <td>1,31,15,36,128</td>\n",
       "      <td>$11,948,096,650</td>\n",
       "      <td>$12,013,670,952</td>\n",
       "      <td>$9.11</td>\n",
       "      <td>NaN</td>\n",
       "    </tr>\n",
       "    <tr>\n",
       "      <th>4</th>\n",
       "      <td>2017</td>\n",
       "      <td>1,22,56,39,761</td>\n",
       "      <td>$10,993,991,460</td>\n",
       "      <td>$11,226,860,216</td>\n",
       "      <td>$8.97</td>\n",
       "      <td>NaN</td>\n",
       "    </tr>\n",
       "  </tbody>\n",
       "</table>\n",
       "</div>"
      ],
      "text/plain": [
       "   YEAR    TICKETS SOLD TOTAL BOX OFFICE TOTAL INFLATION ADJUSTED BOX OFFICE  \\\n",
       "0  2021    42,37,74,881   $3,881,777,912                      $3,881,777,912   \n",
       "1  2020    22,36,38,958   $2,048,534,616                      $2,048,534,616   \n",
       "2  2019  1,22,85,41,629  $11,253,443,955                     $11,253,444,050   \n",
       "3  2018  1,31,15,36,128  $11,948,096,650                     $12,013,670,952   \n",
       "4  2017  1,22,56,39,761  $10,993,991,460                     $11,226,860,216   \n",
       "\n",
       "  AVERAGE TICKET PRICE  Unnamed: 5  \n",
       "0                $9.16         NaN  \n",
       "1                $9.16         NaN  \n",
       "2                $9.16         NaN  \n",
       "3                $9.11         NaN  \n",
       "4                $8.97         NaN  "
      ]
     },
     "execution_count": 3,
     "metadata": {},
     "output_type": "execute_result"
    }
   ],
   "source": [
    "df_AnnualTicketSales.head()"
   ]
  },
  {
   "cell_type": "code",
   "execution_count": 4,
   "id": "7fb62318",
   "metadata": {},
   "outputs": [
    {
     "data": {
      "text/plain": [
       "YEAR                                    0\n",
       "TICKETS SOLD                            0\n",
       "TOTAL BOX OFFICE                        0\n",
       "TOTAL INFLATION ADJUSTED BOX OFFICE     0\n",
       "AVERAGE TICKET PRICE                    0\n",
       "Unnamed: 5                             27\n",
       "dtype: int64"
      ]
     },
     "execution_count": 4,
     "metadata": {},
     "output_type": "execute_result"
    }
   ],
   "source": [
    "df_AnnualTicketSales.isnull().sum()"
   ]
  },
  {
   "cell_type": "code",
   "execution_count": 5,
   "id": "49f1569a",
   "metadata": {},
   "outputs": [],
   "source": [
    "df_AnnualTicketSales.drop(['Unnamed: 5'], axis = 1, inplace = True)"
   ]
  },
  {
   "cell_type": "code",
   "execution_count": 6,
   "id": "709c4aa2",
   "metadata": {},
   "outputs": [
    {
     "data": {
      "text/plain": [
       "(27, 5)"
      ]
     },
     "execution_count": 6,
     "metadata": {},
     "output_type": "execute_result"
    }
   ],
   "source": [
    "df_AnnualTicketSales.shape"
   ]
  },
  {
   "cell_type": "code",
   "execution_count": 7,
   "id": "d73835c5",
   "metadata": {},
   "outputs": [
    {
     "data": {
      "image/png": "[encoded data removed]",
      "text/plain": [
       "<Figure size 360x360 with 1 Axes>"
      ]
     },
     "metadata": {
      "needs_background": "light"
     },
     "output_type": "display_data"
    }
   ],
   "source": [
    "g = sns.catplot(data = df_AnnualTicketSales, kind = \"bar\", x = \"YEAR\", y = \"TICKETS SOLD\")"
   ]
  },
  {
   "cell_type": "code",
   "execution_count": 8,
   "id": "2b12b6ea",
   "metadata": {},
   "outputs": [
    {
     "name": "stdout",
     "output_type": "stream",
     "text": [
      "YEAR                                    int64\n",
      "TICKETS SOLD                           object\n",
      "TOTAL BOX OFFICE                       object\n",
      "TOTAL INFLATION ADJUSTED BOX OFFICE    object\n",
      "AVERAGE TICKET PRICE                   object\n",
      "dtype: object\n"
     ]
    }
   ],
   "source": [
    "print(df_AnnualTicketSales.dtypes)"
   ]
  },
  {
   "cell_type": "code",
   "execution_count": 9,
   "id": "196e8ce6",
   "metadata": {},
   "outputs": [
    {
     "name": "stderr",
     "output_type": "stream",
     "text": [
      "C:\\Users\\agrand6\\AppData\\Local\\Temp/ipykernel_8700/40854903.py:8: FutureWarning: The default value of regex will change from True to False in a future version. In addition, single character regular expressions will *not* be treated as literal strings when regex=True.\n",
      "  df_AnnualTicketSales['TOTAL BOX OFFICE'] = df_AnnualTicketSales['TOTAL BOX OFFICE'].str.replace('$', '')\n",
      "C:\\Users\\agrand6\\AppData\\Local\\Temp/ipykernel_8700/40854903.py:11: FutureWarning: The default value of regex will change from True to False in a future version. In addition, single character regular expressions will *not* be treated as literal strings when regex=True.\n",
      "  df_AnnualTicketSales['TOTAL INFLATION ADJUSTED BOX OFFICE'] = df_AnnualTicketSales['TOTAL INFLATION ADJUSTED BOX OFFICE'].str.replace('$', '')\n",
      "C:\\Users\\agrand6\\AppData\\Local\\Temp/ipykernel_8700/40854903.py:13: FutureWarning: The default value of regex will change from True to False in a future version. In addition, single character regular expressions will *not* be treated as literal strings when regex=True.\n",
      "  df_AnnualTicketSales['AVERAGE TICKET PRICE'] = df_AnnualTicketSales['AVERAGE TICKET PRICE'].str.replace('$', '')\n"
     ]
    }
   ],
   "source": [
    "# we are getting a weird graph since the data is not numeric.\n",
    "# Let's process the data to make sure all columns are int\n",
    "# remove \",\" and \"$\" in the values\n",
    "\n",
    "df_AnnualTicketSales['TICKETS SOLD'] = df_AnnualTicketSales['TICKETS SOLD'].str.replace(',', '')\n",
    "\n",
    "df_AnnualTicketSales['TOTAL BOX OFFICE'] = df_AnnualTicketSales['TOTAL BOX OFFICE'].str.replace(',', '')\n",
    "df_AnnualTicketSales['TOTAL BOX OFFICE'] = df_AnnualTicketSales['TOTAL BOX OFFICE'].str.replace('$', '')\n",
    "\n",
    "df_AnnualTicketSales['TOTAL INFLATION ADJUSTED BOX OFFICE'] = df_AnnualTicketSales['TOTAL INFLATION ADJUSTED BOX OFFICE'].str.replace(',', '')\n",
    "df_AnnualTicketSales['TOTAL INFLATION ADJUSTED BOX OFFICE'] = df_AnnualTicketSales['TOTAL INFLATION ADJUSTED BOX OFFICE'].str.replace('$', '')\n",
    "\n",
    "df_AnnualTicketSales['AVERAGE TICKET PRICE'] = df_AnnualTicketSales['AVERAGE TICKET PRICE'].str.replace('$', '')"
   ]
  },
  {
   "cell_type": "code",
   "execution_count": 10,
   "id": "70eba38e",
   "metadata": {},
   "outputs": [
    {
     "data": {
      "text/html": [
       "<div>\n",
       "<style scoped>\n",
       "    .dataframe tbody tr th:only-of-type {\n",
       "        vertical-align: middle;\n",
       "    }\n",
       "\n",
       "    .dataframe tbody tr th {\n",
       "        vertical-align: top;\n",
       "    }\n",
       "\n",
       "    .dataframe thead th {\n",
       "        text-align: right;\n",
       "    }\n",
       "</style>\n",
       "<table border=\"1\" class=\"dataframe\">\n",
       "  <thead>\n",
       "    <tr style=\"text-align: right;\">\n",
       "      <th></th>\n",
       "      <th>YEAR</th>\n",
       "      <th>TICKETS SOLD</th>\n",
       "      <th>TOTAL BOX OFFICE</th>\n",
       "      <th>TOTAL INFLATION ADJUSTED BOX OFFICE</th>\n",
       "      <th>AVERAGE TICKET PRICE</th>\n",
       "    </tr>\n",
       "  </thead>\n",
       "  <tbody>\n",
       "    <tr>\n",
       "      <th>0</th>\n",
       "      <td>2021</td>\n",
       "      <td>423774881</td>\n",
       "      <td>3881777912</td>\n",
       "      <td>3881777912</td>\n",
       "      <td>9.16</td>\n",
       "    </tr>\n",
       "    <tr>\n",
       "      <th>1</th>\n",
       "      <td>2020</td>\n",
       "      <td>223638958</td>\n",
       "      <td>2048534616</td>\n",
       "      <td>2048534616</td>\n",
       "      <td>9.16</td>\n",
       "    </tr>\n",
       "    <tr>\n",
       "      <th>2</th>\n",
       "      <td>2019</td>\n",
       "      <td>1228541629</td>\n",
       "      <td>11253443955</td>\n",
       "      <td>11253444050</td>\n",
       "      <td>9.16</td>\n",
       "    </tr>\n",
       "    <tr>\n",
       "      <th>3</th>\n",
       "      <td>2018</td>\n",
       "      <td>1311536128</td>\n",
       "      <td>11948096650</td>\n",
       "      <td>12013670952</td>\n",
       "      <td>9.11</td>\n",
       "    </tr>\n",
       "    <tr>\n",
       "      <th>4</th>\n",
       "      <td>2017</td>\n",
       "      <td>1225639761</td>\n",
       "      <td>10993991460</td>\n",
       "      <td>11226860216</td>\n",
       "      <td>8.97</td>\n",
       "    </tr>\n",
       "  </tbody>\n",
       "</table>\n",
       "</div>"
      ],
      "text/plain": [
       "   YEAR TICKETS SOLD TOTAL BOX OFFICE TOTAL INFLATION ADJUSTED BOX OFFICE  \\\n",
       "0  2021    423774881       3881777912                          3881777912   \n",
       "1  2020    223638958       2048534616                          2048534616   \n",
       "2  2019   1228541629      11253443955                         11253444050   \n",
       "3  2018   1311536128      11948096650                         12013670952   \n",
       "4  2017   1225639761      10993991460                         11226860216   \n",
       "\n",
       "  AVERAGE TICKET PRICE  \n",
       "0                 9.16  \n",
       "1                 9.16  \n",
       "2                 9.16  \n",
       "3                 9.11  \n",
       "4                 8.97  "
      ]
     },
     "execution_count": 10,
     "metadata": {},
     "output_type": "execute_result"
    }
   ],
   "source": [
    "df_AnnualTicketSales.head()"
   ]
  },
  {
   "cell_type": "code",
   "execution_count": 11,
   "id": "7ee1cdae",
   "metadata": {},
   "outputs": [],
   "source": [
    "df_AnnualTicketSales = df_AnnualTicketSales.apply(pd.to_numeric)\n",
    "\n",
    "#if you want to convert only specific features to numeric, we can use \n",
    "#df_AnnualTicketSales[\"a\",\"b\"] = df_AnnualTicketSales[\"a\",\"b\"].apply(pd.to_numeric)"
   ]
  },
  {
   "cell_type": "code",
   "execution_count": 12,
   "id": "9325995d",
   "metadata": {},
   "outputs": [
    {
     "name": "stdout",
     "output_type": "stream",
     "text": [
      "<class 'pandas.core.frame.DataFrame'>\n",
      "RangeIndex: 27 entries, 0 to 26\n",
      "Data columns (total 5 columns):\n",
      " #   Column                               Non-Null Count  Dtype  \n",
      "---  ------                               --------------  -----  \n",
      " 0   YEAR                                 27 non-null     int64  \n",
      " 1   TICKETS SOLD                         27 non-null     int64  \n",
      " 2   TOTAL BOX OFFICE                     27 non-null     int64  \n",
      " 3   TOTAL INFLATION ADJUSTED BOX OFFICE  27 non-null     int64  \n",
      " 4   AVERAGE TICKET PRICE                 27 non-null     float64\n",
      "dtypes: float64(1), int64(4)\n",
      "memory usage: 1.2 KB\n"
     ]
    }
   ],
   "source": [
    "df_AnnualTicketSales.info()"
   ]
  },
  {
   "cell_type": "code",
   "execution_count": 13,
   "id": "6c75eb2e",
   "metadata": {},
   "outputs": [
    {
     "data": {
      "image/png": "[encoded data removed]",
      "text/plain": [
       "<Figure size 1080x360 with 1 Axes>"
      ]
     },
     "metadata": {
      "needs_background": "light"
     },
     "output_type": "display_data"
    }
   ],
   "source": [
    "g = sns.catplot(data = df_AnnualTicketSales, kind = \"bar\", x = \"YEAR\", y = \"TICKETS SOLD\", aspect=3)\n",
    "plt.ylabel(\"Tickets Sold In Billions $\")\n",
    "plt.grid(True)"
   ]
  },
  {
   "cell_type": "code",
   "execution_count": 14,
   "id": "e03fe1e3",
   "metadata": {},
   "outputs": [],
   "source": [
    "#Yahhh, finally peace"
   ]
  },
  {
   "cell_type": "code",
   "execution_count": 15,
   "id": "8bbe1109",
   "metadata": {},
   "outputs": [],
   "source": [
    "df_PopularCreativeTypes = pd.read_csv(r'C:\\Users\\agrand6\\OneDrive - University of Illinois at Chicago\\Code\\DataDump\\HollwoodShows\\PopularCreativeTypes.csv')"
   ]
  },
  {
   "cell_type": "code",
   "execution_count": 16,
   "id": "730a516b",
   "metadata": {},
   "outputs": [
    {
     "data": {
      "text/html": [
       "<div>\n",
       "<style scoped>\n",
       "    .dataframe tbody tr th:only-of-type {\n",
       "        vertical-align: middle;\n",
       "    }\n",
       "\n",
       "    .dataframe tbody tr th {\n",
       "        vertical-align: top;\n",
       "    }\n",
       "\n",
       "    .dataframe thead th {\n",
       "        text-align: right;\n",
       "    }\n",
       "</style>\n",
       "<table border=\"1\" class=\"dataframe\">\n",
       "  <thead>\n",
       "    <tr style=\"text-align: right;\">\n",
       "      <th></th>\n",
       "      <th>RANK</th>\n",
       "      <th>CREATIVE TYPES</th>\n",
       "      <th>MOVIES</th>\n",
       "      <th>TOTAL GROSS</th>\n",
       "      <th>AVERAGE GROSS</th>\n",
       "      <th>MARKET SHARE</th>\n",
       "    </tr>\n",
       "  </thead>\n",
       "  <tbody>\n",
       "    <tr>\n",
       "      <th>0</th>\n",
       "      <td>1.0</td>\n",
       "      <td>Contemporary Fiction</td>\n",
       "      <td>7,442</td>\n",
       "      <td>$96,203,727,036</td>\n",
       "      <td>$12,927,133</td>\n",
       "      <td>40.46%</td>\n",
       "    </tr>\n",
       "    <tr>\n",
       "      <th>1</th>\n",
       "      <td>2.0</td>\n",
       "      <td>Kids Fiction</td>\n",
       "      <td>564</td>\n",
       "      <td>$32,035,539,746</td>\n",
       "      <td>$56,800,602</td>\n",
       "      <td>13.47%</td>\n",
       "    </tr>\n",
       "    <tr>\n",
       "      <th>2</th>\n",
       "      <td>3.0</td>\n",
       "      <td>Science Fiction</td>\n",
       "      <td>724</td>\n",
       "      <td>$29,922,660,857</td>\n",
       "      <td>$41,329,642</td>\n",
       "      <td>12.59%</td>\n",
       "    </tr>\n",
       "    <tr>\n",
       "      <th>3</th>\n",
       "      <td>4.0</td>\n",
       "      <td>Fantasy</td>\n",
       "      <td>759</td>\n",
       "      <td>$21,724,062,575</td>\n",
       "      <td>$28,621,953</td>\n",
       "      <td>9.14%</td>\n",
       "    </tr>\n",
       "    <tr>\n",
       "      <th>4</th>\n",
       "      <td>5.0</td>\n",
       "      <td>Super Hero</td>\n",
       "      <td>129</td>\n",
       "      <td>$20,273,157,911</td>\n",
       "      <td>$157,156,263</td>\n",
       "      <td>8.53%</td>\n",
       "    </tr>\n",
       "    <tr>\n",
       "      <th>5</th>\n",
       "      <td>6.0</td>\n",
       "      <td>Historical Fiction</td>\n",
       "      <td>1,487</td>\n",
       "      <td>$18,521,260,744</td>\n",
       "      <td>$12,455,454</td>\n",
       "      <td>7.79%</td>\n",
       "    </tr>\n",
       "    <tr>\n",
       "      <th>6</th>\n",
       "      <td>7.0</td>\n",
       "      <td>Dramatization</td>\n",
       "      <td>1,175</td>\n",
       "      <td>$15,715,191,699</td>\n",
       "      <td>$13,374,631</td>\n",
       "      <td>6.61%</td>\n",
       "    </tr>\n",
       "    <tr>\n",
       "      <th>7</th>\n",
       "      <td>8.0</td>\n",
       "      <td>Factual</td>\n",
       "      <td>2,467</td>\n",
       "      <td>$2,960,327,207</td>\n",
       "      <td>$1,199,970</td>\n",
       "      <td>1.25%</td>\n",
       "    </tr>\n",
       "    <tr>\n",
       "      <th>8</th>\n",
       "      <td>9.0</td>\n",
       "      <td>Multiple Creative Types</td>\n",
       "      <td>42</td>\n",
       "      <td>$117,574,526</td>\n",
       "      <td>$2,799,393</td>\n",
       "      <td>0.05%</td>\n",
       "    </tr>\n",
       "    <tr>\n",
       "      <th>9</th>\n",
       "      <td>NaN</td>\n",
       "      <td>NaN</td>\n",
       "      <td>NaN</td>\n",
       "      <td>NaN</td>\n",
       "      <td>NaN</td>\n",
       "      <td>NaN</td>\n",
       "    </tr>\n",
       "  </tbody>\n",
       "</table>\n",
       "</div>"
      ],
      "text/plain": [
       "   RANK           CREATIVE TYPES MOVIES      TOTAL GROSS AVERAGE GROSS  \\\n",
       "0   1.0     Contemporary Fiction  7,442  $96,203,727,036   $12,927,133   \n",
       "1   2.0             Kids Fiction    564  $32,035,539,746   $56,800,602   \n",
       "2   3.0          Science Fiction    724  $29,922,660,857   $41,329,642   \n",
       "3   4.0                  Fantasy    759  $21,724,062,575   $28,621,953   \n",
       "4   5.0               Super Hero    129  $20,273,157,911  $157,156,263   \n",
       "5   6.0       Historical Fiction  1,487  $18,521,260,744   $12,455,454   \n",
       "6   7.0            Dramatization  1,175  $15,715,191,699   $13,374,631   \n",
       "7   8.0                  Factual  2,467   $2,960,327,207    $1,199,970   \n",
       "8   9.0  Multiple Creative Types     42     $117,574,526    $2,799,393   \n",
       "9   NaN                      NaN    NaN              NaN           NaN   \n",
       "\n",
       "  MARKET SHARE  \n",
       "0       40.46%  \n",
       "1       13.47%  \n",
       "2       12.59%  \n",
       "3        9.14%  \n",
       "4        8.53%  \n",
       "5        7.79%  \n",
       "6        6.61%  \n",
       "7        1.25%  \n",
       "8        0.05%  \n",
       "9          NaN  "
      ]
     },
     "execution_count": 16,
     "metadata": {},
     "output_type": "execute_result"
    }
   ],
   "source": [
    "df_PopularCreativeTypes"
   ]
  },
  {
   "cell_type": "code",
   "execution_count": 17,
   "id": "65b283dd",
   "metadata": {},
   "outputs": [
    {
     "name": "stderr",
     "output_type": "stream",
     "text": [
      "C:\\Users\\agrand6\\AppData\\Local\\Temp/ipykernel_8700/2443732044.py:4: FutureWarning: The default value of regex will change from True to False in a future version. In addition, single character regular expressions will *not* be treated as literal strings when regex=True.\n",
      "  df_PopularCreativeTypes['TOTAL GROSS'] = df_PopularCreativeTypes['TOTAL GROSS'].str.replace('$', '')\n",
      "C:\\Users\\agrand6\\AppData\\Local\\Temp/ipykernel_8700/2443732044.py:7: FutureWarning: The default value of regex will change from True to False in a future version. In addition, single character regular expressions will *not* be treated as literal strings when regex=True.\n",
      "  df_PopularCreativeTypes['AVERAGE GROSS'] = df_PopularCreativeTypes['AVERAGE GROSS'].str.replace('$', '')\n"
     ]
    }
   ],
   "source": [
    "df_PopularCreativeTypes['MOVIES'] = df_PopularCreativeTypes['MOVIES'].str.replace(',', '')\n",
    "\n",
    "df_PopularCreativeTypes['TOTAL GROSS'] = df_PopularCreativeTypes['TOTAL GROSS'].str.replace(',', '')\n",
    "df_PopularCreativeTypes['TOTAL GROSS'] = df_PopularCreativeTypes['TOTAL GROSS'].str.replace('$', '')\n",
    "\n",
    "df_PopularCreativeTypes['AVERAGE GROSS'] = df_PopularCreativeTypes['AVERAGE GROSS'].str.replace(',', '')\n",
    "df_PopularCreativeTypes['AVERAGE GROSS'] = df_PopularCreativeTypes['AVERAGE GROSS'].str.replace('$', '')\n",
    "\n",
    "df_PopularCreativeTypes.drop([9], inplace= True)"
   ]
  },
  {
   "cell_type": "code",
   "execution_count": 18,
   "id": "7375b4c5",
   "metadata": {},
   "outputs": [
    {
     "name": "stdout",
     "output_type": "stream",
     "text": [
      "<class 'pandas.core.frame.DataFrame'>\n",
      "Int64Index: 9 entries, 0 to 8\n",
      "Data columns (total 6 columns):\n",
      " #   Column          Non-Null Count  Dtype  \n",
      "---  ------          --------------  -----  \n",
      " 0   RANK            9 non-null      float64\n",
      " 1   CREATIVE TYPES  9 non-null      object \n",
      " 2   MOVIES          9 non-null      int64  \n",
      " 3   TOTAL GROSS     9 non-null      object \n",
      " 4   AVERAGE GROSS   9 non-null      object \n",
      " 5   MARKET SHARE    9 non-null      object \n",
      "dtypes: float64(1), int64(1), object(4)\n",
      "memory usage: 504.0+ bytes\n"
     ]
    }
   ],
   "source": [
    "df_PopularCreativeTypes[\"MOVIES\"] = df_PopularCreativeTypes[\"MOVIES\"].apply(pd.to_numeric)\n",
    "df_PopularCreativeTypes.info()"
   ]
  },
  {
   "cell_type": "code",
   "execution_count": 19,
   "id": "120f92d8",
   "metadata": {},
   "outputs": [
    {
     "data": {
      "image/png": "[encoded data removed]",
      "text/plain": [
       "<Figure size 432x288 with 1 Axes>"
      ]
     },
     "metadata": {},
     "output_type": "display_data"
    }
   ],
   "source": [
    "#pie chart showing movies and total gross\n",
    "\n",
    "values = df_PopularCreativeTypes['MOVIES']\n",
    "labels = df_PopularCreativeTypes['CREATIVE TYPES']\n",
    "\n",
    "plt.pie(values, labels = labels, colors = sns.color_palette('bright'))\n",
    "plt.show()"
   ]
  },
  {
   "cell_type": "code",
   "execution_count": 20,
   "id": "366c3210",
   "metadata": {},
   "outputs": [],
   "source": [
    "df_WideReleasesCount = pd.read_csv(r'C:\\Users\\agrand6\\OneDrive - University of Illinois at Chicago\\Code\\DataDump\\HollwoodShows\\WideReleasesCount.csv')"
   ]
  },
  {
   "cell_type": "code",
   "execution_count": 21,
   "id": "64730fd1",
   "metadata": {},
   "outputs": [
    {
     "name": "stdout",
     "output_type": "stream",
     "text": [
      "<class 'pandas.core.frame.DataFrame'>\n",
      "RangeIndex: 27 entries, 0 to 26\n",
      "Data columns (total 10 columns):\n",
      " #   Column               Non-Null Count  Dtype  \n",
      "---  ------               --------------  -----  \n",
      " 0   YEAR                 27 non-null     int64  \n",
      " 1   WARNER BROS          27 non-null     int64  \n",
      " 2   WALT DISNEY          27 non-null     int64  \n",
      " 3   20TH CENTURY FOX     27 non-null     int64  \n",
      " 4   PARAMOUNT PICTURES   27 non-null     int64  \n",
      " 5   SONY PICTURES        27 non-null     int64  \n",
      " 6   UNIVERSAL            27 non-null     int64  \n",
      " 7   TOTAL MAJOR 6        27 non-null     int64  \n",
      " 8   TOTAL OTHER STUDIOS  27 non-null     int64  \n",
      " 9   Unnamed: 9           0 non-null      float64\n",
      "dtypes: float64(1), int64(9)\n",
      "memory usage: 2.2 KB\n"
     ]
    }
   ],
   "source": [
    "df_WideReleasesCount.info()"
   ]
  },
  {
   "cell_type": "code",
   "execution_count": 22,
   "id": "b50ebc5b",
   "metadata": {},
   "outputs": [
    {
     "data": {
      "text/html": [
       "<div>\n",
       "<style scoped>\n",
       "    .dataframe tbody tr th:only-of-type {\n",
       "        vertical-align: middle;\n",
       "    }\n",
       "\n",
       "    .dataframe tbody tr th {\n",
       "        vertical-align: top;\n",
       "    }\n",
       "\n",
       "    .dataframe thead th {\n",
       "        text-align: right;\n",
       "    }\n",
       "</style>\n",
       "<table border=\"1\" class=\"dataframe\">\n",
       "  <thead>\n",
       "    <tr style=\"text-align: right;\">\n",
       "      <th></th>\n",
       "      <th>YEAR</th>\n",
       "      <th>WARNER BROS</th>\n",
       "      <th>WALT DISNEY</th>\n",
       "      <th>20TH CENTURY FOX</th>\n",
       "      <th>PARAMOUNT PICTURES</th>\n",
       "      <th>SONY PICTURES</th>\n",
       "      <th>UNIVERSAL</th>\n",
       "      <th>TOTAL MAJOR 6</th>\n",
       "      <th>TOTAL OTHER STUDIOS</th>\n",
       "    </tr>\n",
       "  </thead>\n",
       "  <tbody>\n",
       "    <tr>\n",
       "      <th>0</th>\n",
       "      <td>2021</td>\n",
       "      <td>17</td>\n",
       "      <td>7</td>\n",
       "      <td>0</td>\n",
       "      <td>4</td>\n",
       "      <td>16</td>\n",
       "      <td>17</td>\n",
       "      <td>61</td>\n",
       "      <td>38</td>\n",
       "    </tr>\n",
       "    <tr>\n",
       "      <th>1</th>\n",
       "      <td>2020</td>\n",
       "      <td>5</td>\n",
       "      <td>3</td>\n",
       "      <td>1</td>\n",
       "      <td>3</td>\n",
       "      <td>9</td>\n",
       "      <td>13</td>\n",
       "      <td>34</td>\n",
       "      <td>23</td>\n",
       "    </tr>\n",
       "    <tr>\n",
       "      <th>2</th>\n",
       "      <td>2019</td>\n",
       "      <td>18</td>\n",
       "      <td>10</td>\n",
       "      <td>11</td>\n",
       "      <td>9</td>\n",
       "      <td>18</td>\n",
       "      <td>21</td>\n",
       "      <td>87</td>\n",
       "      <td>44</td>\n",
       "    </tr>\n",
       "    <tr>\n",
       "      <th>3</th>\n",
       "      <td>2018</td>\n",
       "      <td>19</td>\n",
       "      <td>10</td>\n",
       "      <td>11</td>\n",
       "      <td>10</td>\n",
       "      <td>16</td>\n",
       "      <td>20</td>\n",
       "      <td>86</td>\n",
       "      <td>58</td>\n",
       "    </tr>\n",
       "    <tr>\n",
       "      <th>4</th>\n",
       "      <td>2017</td>\n",
       "      <td>18</td>\n",
       "      <td>8</td>\n",
       "      <td>14</td>\n",
       "      <td>10</td>\n",
       "      <td>16</td>\n",
       "      <td>15</td>\n",
       "      <td>81</td>\n",
       "      <td>50</td>\n",
       "    </tr>\n",
       "  </tbody>\n",
       "</table>\n",
       "</div>"
      ],
      "text/plain": [
       "   YEAR  WARNER BROS  WALT DISNEY  20TH CENTURY FOX  PARAMOUNT PICTURES  \\\n",
       "0  2021           17            7                 0                   4   \n",
       "1  2020            5            3                 1                   3   \n",
       "2  2019           18           10                11                   9   \n",
       "3  2018           19           10                11                  10   \n",
       "4  2017           18            8                14                  10   \n",
       "\n",
       "   SONY PICTURES  UNIVERSAL  TOTAL MAJOR 6  TOTAL OTHER STUDIOS  \n",
       "0             16         17             61                   38  \n",
       "1              9         13             34                   23  \n",
       "2             18         21             87                   44  \n",
       "3             16         20             86                   58  \n",
       "4             16         15             81                   50  "
      ]
     },
     "execution_count": 22,
     "metadata": {},
     "output_type": "execute_result"
    }
   ],
   "source": [
    "df_WideReleasesCount.drop(['Unnamed: 9'], axis =1, inplace = True)\n",
    "df_WideReleasesCount.head()"
   ]
  },
  {
   "cell_type": "code",
   "execution_count": 23,
   "id": "09c5d32f",
   "metadata": {},
   "outputs": [],
   "source": [
    "df_WideReleasesCount.drop(['TOTAL MAJOR 6'], axis = 1, inplace = True)"
   ]
  },
  {
   "cell_type": "code",
   "execution_count": 58,
   "id": "f093d6ab",
   "metadata": {},
   "outputs": [
    {
     "name": "stdout",
     "output_type": "stream",
     "text": [
      "Index(['WARNER BROS', 'WALT DISNEY', '20TH CENTURY FOX', 'PARAMOUNT PICTURES',\n",
      "       'SONY PICTURES', 'UNIVERSAL', 'TOTAL OTHER STUDIOS'],\n",
      "      dtype='object')\n",
      "WARNER BROS             5\n",
      "WALT DISNEY             3\n",
      "20TH CENTURY FOX        1\n",
      "PARAMOUNT PICTURES      3\n",
      "SONY PICTURES           9\n",
      "UNIVERSAL              13\n",
      "TOTAL OTHER STUDIOS    23\n",
      "Name: 1, dtype: int64\n"
     ]
    }
   ],
   "source": [
    "# for 2020\n",
    "#print(df_WideReleasesCount.loc[1][1:])\n",
    "\n",
    "labels = (df_WideReleasesCount.drop(['YEAR'], axis =1)).columns\n",
    "\n",
    "values = df_WideReleasesCount.loc[1][1:]\n",
    "\n",
    "print(labels)\n",
    "print(values)"
   ]
  },
  {
   "cell_type": "code",
   "execution_count": 59,
   "id": "afbd8758",
   "metadata": {},
   "outputs": [
    {
     "data": {
      "image/png": "[encoded data removed]",
      "text/plain": [
       "<Figure size 432x288 with 1 Axes>"
      ]
     },
     "metadata": {},
     "output_type": "display_data"
    }
   ],
   "source": [
    "plt.pie(values, labels = labels, colors = sns.color_palette('bright'))\n",
    "plt.show()"
   ]
  },
  {
   "cell_type": "code",
   "execution_count": 85,
   "id": "2c22a91a",
   "metadata": {},
   "outputs": [
    {
     "data": {
      "image/png": "[encoded data removed]",
      "text/plain": [
       "<Figure size 432x288 with 1 Axes>"
      ]
     },
     "metadata": {},
     "output_type": "display_data"
    }
   ],
   "source": [
    "# Beautify the pie chart\n",
    "# Identifying Sony's performance in 2020\n",
    "\n",
    "ax = plt.pie(values, labels = labels, colors = sns.color_palette('bright'), explode = (0,0,0,0,0.15,0,0))\n",
    "fig.set_size_inches(10,10)\n",
    "plt.title('Movie Houses distribution in 2020',fontname = 'monospace', size = 13, color = 'b', pad =20)\n",
    "plt.subplots_adjust(wspace=0.5)\n",
    "plt.show()\n",
    "\n",
    "# Using pad to increase space between the title and piechart\n"
   ]
  },
  {
   "cell_type": "code",
   "execution_count": null,
   "id": "99af3e9a",
   "metadata": {},
   "outputs": [],
   "source": []
  },
  {
   "cell_type": "code",
   "execution_count": null,
   "id": "87cb4d62",
   "metadata": {},
   "outputs": [],
   "source": [
    "# Word cloud\n",
    "\n",
    "#from wordcloud import WordCloud\n",
    "#from wordcloud import STOPWORDS\n",
    "#stopwords = set(STOPWORDS)\n",
    "#wordcloud = WordCloud(background_color = 'Blue',\n",
    "#                      height =2000,\n",
    "#                      width = 2000\n",
    "#                     ).generate(str(df[\"DISTRIBUTORS\"]))\n",
    "#plt.rcParams['figure.figsize'] = (12,12)\n",
    "#plt.axis(\"off\")\n",
    "#plt.imshow(wordcloud)\n",
    "#plt.title(\"Holywood Theatrical distributors\")\n",
    "#plt.show()\n",
    "\n"
   ]
  }
 ],
 "metadata": {
  "kernelspec": {
   "display_name": "Python 3 (ipykernel)",
   "language": "python",
   "name": "python3"
  },
  "language_info": {
   "codemirror_mode": {
    "name": "ipython",
    "version": 3
   },
   "file_extension": ".py",
   "mimetype": "text/x-python",
   "name": "python",
   "nbconvert_exporter": "python",
   "pygments_lexer": "ipython3",
   "version": "3.9.7"
  }
 },
 "nbformat": 4,
 "nbformat_minor": 5
}
