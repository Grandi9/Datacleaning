{
 "cells": [
  {
   "cell_type": "code",
   "execution_count": 60,
   "id": "b8fa1944",
   "metadata": {},
   "outputs": [],
   "source": [
    "# import all the required libraries \n",
    "\n",
    "import pandas as pd \n",
    "import numpy as np\n",
    "import matplotlib.pyplot as plt\n",
    "\n",
    "%matplotlib inline\n"
   ]
  },
  {
   "cell_type": "code",
   "execution_count": 61,
   "id": "8a10a64f",
   "metadata": {},
   "outputs": [],
   "source": [
    "# storing the data into a df\n",
    "df = pd.read_csv(r'C:\\Users\\agrand6\\OneDrive - University of Illinois at Chicago\\Code\\CodeDumps\\Shopify\\data.csv', index_col=\"order_id\")"
   ]
  },
  {
   "cell_type": "code",
   "execution_count": 62,
   "id": "be0bb3b1",
   "metadata": {},
   "outputs": [
    {
     "data": {
      "text/html": [
       "<div>\n",
       "<style scoped>\n",
       "    .dataframe tbody tr th:only-of-type {\n",
       "        vertical-align: middle;\n",
       "    }\n",
       "\n",
       "    .dataframe tbody tr th {\n",
       "        vertical-align: top;\n",
       "    }\n",
       "\n",
       "    .dataframe thead th {\n",
       "        text-align: right;\n",
       "    }\n",
       "</style>\n",
       "<table border=\"1\" class=\"dataframe\">\n",
       "  <thead>\n",
       "    <tr style=\"text-align: right;\">\n",
       "      <th></th>\n",
       "      <th>shop_id</th>\n",
       "      <th>user_id</th>\n",
       "      <th>order_amount</th>\n",
       "      <th>total_items</th>\n",
       "      <th>payment_method</th>\n",
       "      <th>created_at</th>\n",
       "    </tr>\n",
       "    <tr>\n",
       "      <th>order_id</th>\n",
       "      <th></th>\n",
       "      <th></th>\n",
       "      <th></th>\n",
       "      <th></th>\n",
       "      <th></th>\n",
       "      <th></th>\n",
       "    </tr>\n",
       "  </thead>\n",
       "  <tbody>\n",
       "    <tr>\n",
       "      <th>1</th>\n",
       "      <td>53</td>\n",
       "      <td>746</td>\n",
       "      <td>224</td>\n",
       "      <td>2</td>\n",
       "      <td>cash</td>\n",
       "      <td>2017-03-13 12:36:56</td>\n",
       "    </tr>\n",
       "    <tr>\n",
       "      <th>2</th>\n",
       "      <td>92</td>\n",
       "      <td>925</td>\n",
       "      <td>90</td>\n",
       "      <td>1</td>\n",
       "      <td>cash</td>\n",
       "      <td>2017-03-03 17:38:52</td>\n",
       "    </tr>\n",
       "    <tr>\n",
       "      <th>3</th>\n",
       "      <td>44</td>\n",
       "      <td>861</td>\n",
       "      <td>144</td>\n",
       "      <td>1</td>\n",
       "      <td>cash</td>\n",
       "      <td>2017-03-14 4:23:56</td>\n",
       "    </tr>\n",
       "    <tr>\n",
       "      <th>4</th>\n",
       "      <td>18</td>\n",
       "      <td>935</td>\n",
       "      <td>156</td>\n",
       "      <td>1</td>\n",
       "      <td>credit_card</td>\n",
       "      <td>2017-03-26 12:43:37</td>\n",
       "    </tr>\n",
       "    <tr>\n",
       "      <th>5</th>\n",
       "      <td>18</td>\n",
       "      <td>883</td>\n",
       "      <td>156</td>\n",
       "      <td>1</td>\n",
       "      <td>credit_card</td>\n",
       "      <td>2017-03-01 4:35:11</td>\n",
       "    </tr>\n",
       "  </tbody>\n",
       "</table>\n",
       "</div>"
      ],
      "text/plain": [
       "          shop_id  user_id  order_amount  total_items payment_method  \\\n",
       "order_id                                                               \n",
       "1              53      746           224            2           cash   \n",
       "2              92      925            90            1           cash   \n",
       "3              44      861           144            1           cash   \n",
       "4              18      935           156            1    credit_card   \n",
       "5              18      883           156            1    credit_card   \n",
       "\n",
       "                   created_at  \n",
       "order_id                       \n",
       "1         2017-03-13 12:36:56  \n",
       "2         2017-03-03 17:38:52  \n",
       "3          2017-03-14 4:23:56  \n",
       "4         2017-03-26 12:43:37  \n",
       "5          2017-03-01 4:35:11  "
      ]
     },
     "execution_count": 62,
     "metadata": {},
     "output_type": "execute_result"
    }
   ],
   "source": [
    "df.head()"
   ]
  },
  {
   "cell_type": "code",
   "execution_count": 63,
   "id": "798143d7",
   "metadata": {},
   "outputs": [
    {
     "data": {
      "text/plain": [
       "shop_id           0\n",
       "user_id           0\n",
       "order_amount      0\n",
       "total_items       0\n",
       "payment_method    0\n",
       "created_at        0\n",
       "dtype: int64"
      ]
     },
     "execution_count": 63,
     "metadata": {},
     "output_type": "execute_result"
    }
   ],
   "source": [
    "# Checking for missing values\n",
    "df.isna().sum()"
   ]
  },
  {
   "cell_type": "code",
   "execution_count": 64,
   "id": "e98f8016",
   "metadata": {},
   "outputs": [
    {
     "name": "stdout",
     "output_type": "stream",
     "text": [
      "<class 'pandas.core.frame.DataFrame'>\n",
      "Int64Index: 5000 entries, 1 to 5000\n",
      "Data columns (total 6 columns):\n",
      " #   Column          Non-Null Count  Dtype \n",
      "---  ------          --------------  ----- \n",
      " 0   shop_id         5000 non-null   int64 \n",
      " 1   user_id         5000 non-null   int64 \n",
      " 2   order_amount    5000 non-null   int64 \n",
      " 3   total_items     5000 non-null   int64 \n",
      " 4   payment_method  5000 non-null   object\n",
      " 5   created_at      5000 non-null   object\n",
      "dtypes: int64(4), object(2)\n",
      "memory usage: 273.4+ KB\n"
     ]
    }
   ],
   "source": [
    "df.info()"
   ]
  },
  {
   "cell_type": "code",
   "execution_count": 65,
   "id": "800af3b7",
   "metadata": {},
   "outputs": [
    {
     "data": {
      "text/plain": [
       "(5000, 6)"
      ]
     },
     "execution_count": 65,
     "metadata": {},
     "output_type": "execute_result"
    }
   ],
   "source": [
    "df.shape"
   ]
  },
  {
   "cell_type": "code",
   "execution_count": 66,
   "id": "5d3da1b2",
   "metadata": {},
   "outputs": [
    {
     "data": {
      "text/plain": [
       "3145.128"
      ]
     },
     "execution_count": 66,
     "metadata": {},
     "output_type": "execute_result"
    }
   ],
   "source": [
    "#Average order value for the dataset\n",
    "\n",
    "np.mean(df['order_amount'])"
   ]
  },
  {
   "cell_type": "code",
   "execution_count": 67,
   "id": "eed3f752",
   "metadata": {},
   "outputs": [
    {
     "data": {
      "text/plain": [
       "387.7428"
      ]
     },
     "execution_count": 67,
     "metadata": {},
     "output_type": "execute_result"
    }
   ],
   "source": [
    "# Yep as we can see the mean of the order amount is abonrmally high for the sneakers. \n",
    "# In the total_items the items count is not equal to 1, so lets create a new column and find out\n",
    "\n",
    "df['price_per_sneaker'] = df['order_amount']/ df['total_items']\n",
    "np.mean(df['price_per_sneaker'])"
   ]
  },
  {
   "cell_type": "code",
   "execution_count": 68,
   "id": "0d2278a4",
   "metadata": {},
   "outputs": [
    {
     "data": {
      "text/plain": [
       "(array([4954.,    0.,    0.,    0.,    0.,    0.,    0.,    0.,    0.,\n",
       "          46.]),\n",
       " array([   90. ,  2653.5,  5217. ,  7780.5, 10344. , 12907.5, 15471. ,\n",
       "        18034.5, 20598. , 23161.5, 25725. ]),\n",
       " <BarContainer object of 10 artists>)"
      ]
     },
     "execution_count": 68,
     "metadata": {},
     "output_type": "execute_result"
    },
    {
     "data": {
      "image/png": "[encoded data removed]",
      "text/plain": [
       "<Figure size 432x288 with 1 Axes>"
      ]
     },
     "metadata": {
      "needs_background": "light"
     },
     "output_type": "display_data"
    }
   ],
   "source": [
    "# 387 per sneaker still seems reasoanbly large.\n",
    "# However, this value is much smaller than the 3k price per sneaker.\n",
    "# Lets see the disstribution of the price and gain more insights\n",
    "\n",
    "plt.hist(df['price_per_sneaker'])"
   ]
  },
  {
   "cell_type": "code",
   "execution_count": 69,
   "id": "c2ee1351",
   "metadata": {},
   "outputs": [
    {
     "data": {
      "text/html": [
       "<div>\n",
       "<style scoped>\n",
       "    .dataframe tbody tr th:only-of-type {\n",
       "        vertical-align: middle;\n",
       "    }\n",
       "\n",
       "    .dataframe tbody tr th {\n",
       "        vertical-align: top;\n",
       "    }\n",
       "\n",
       "    .dataframe thead th {\n",
       "        text-align: right;\n",
       "    }\n",
       "</style>\n",
       "<table border=\"1\" class=\"dataframe\">\n",
       "  <thead>\n",
       "    <tr style=\"text-align: right;\">\n",
       "      <th></th>\n",
       "      <th>shop_id</th>\n",
       "      <th>user_id</th>\n",
       "      <th>order_amount</th>\n",
       "      <th>total_items</th>\n",
       "      <th>payment_method</th>\n",
       "      <th>created_at</th>\n",
       "      <th>price_per_sneaker</th>\n",
       "    </tr>\n",
       "    <tr>\n",
       "      <th>order_id</th>\n",
       "      <th></th>\n",
       "      <th></th>\n",
       "      <th></th>\n",
       "      <th></th>\n",
       "      <th></th>\n",
       "      <th></th>\n",
       "      <th></th>\n",
       "    </tr>\n",
       "  </thead>\n",
       "  <tbody>\n",
       "    <tr>\n",
       "      <th>4421</th>\n",
       "      <td>78</td>\n",
       "      <td>969</td>\n",
       "      <td>77175</td>\n",
       "      <td>3</td>\n",
       "      <td>debit</td>\n",
       "      <td>2017-03-09 15:21:35</td>\n",
       "      <td>25725.0</td>\n",
       "    </tr>\n",
       "    <tr>\n",
       "      <th>2907</th>\n",
       "      <td>78</td>\n",
       "      <td>817</td>\n",
       "      <td>77175</td>\n",
       "      <td>3</td>\n",
       "      <td>debit</td>\n",
       "      <td>2017-03-16 3:45:46</td>\n",
       "      <td>25725.0</td>\n",
       "    </tr>\n",
       "    <tr>\n",
       "      <th>4506</th>\n",
       "      <td>78</td>\n",
       "      <td>866</td>\n",
       "      <td>25725</td>\n",
       "      <td>1</td>\n",
       "      <td>debit</td>\n",
       "      <td>2017-03-22 22:06:01</td>\n",
       "      <td>25725.0</td>\n",
       "    </tr>\n",
       "    <tr>\n",
       "      <th>494</th>\n",
       "      <td>78</td>\n",
       "      <td>983</td>\n",
       "      <td>51450</td>\n",
       "      <td>2</td>\n",
       "      <td>cash</td>\n",
       "      <td>2017-03-16 21:39:35</td>\n",
       "      <td>25725.0</td>\n",
       "    </tr>\n",
       "    <tr>\n",
       "      <th>2453</th>\n",
       "      <td>78</td>\n",
       "      <td>709</td>\n",
       "      <td>51450</td>\n",
       "      <td>2</td>\n",
       "      <td>cash</td>\n",
       "      <td>2017-03-27 11:04:04</td>\n",
       "      <td>25725.0</td>\n",
       "    </tr>\n",
       "    <tr>\n",
       "      <th>...</th>\n",
       "      <td>...</td>\n",
       "      <td>...</td>\n",
       "      <td>...</td>\n",
       "      <td>...</td>\n",
       "      <td>...</td>\n",
       "      <td>...</td>\n",
       "      <td>...</td>\n",
       "    </tr>\n",
       "    <tr>\n",
       "      <th>2715</th>\n",
       "      <td>92</td>\n",
       "      <td>905</td>\n",
       "      <td>180</td>\n",
       "      <td>2</td>\n",
       "      <td>cash</td>\n",
       "      <td>2017-03-15 17:02:28</td>\n",
       "      <td>90.0</td>\n",
       "    </tr>\n",
       "    <tr>\n",
       "      <th>3916</th>\n",
       "      <td>92</td>\n",
       "      <td>760</td>\n",
       "      <td>180</td>\n",
       "      <td>2</td>\n",
       "      <td>cash</td>\n",
       "      <td>2017-03-26 15:44:40</td>\n",
       "      <td>90.0</td>\n",
       "    </tr>\n",
       "    <tr>\n",
       "      <th>4761</th>\n",
       "      <td>92</td>\n",
       "      <td>937</td>\n",
       "      <td>90</td>\n",
       "      <td>1</td>\n",
       "      <td>debit</td>\n",
       "      <td>2017-03-20 7:37:28</td>\n",
       "      <td>90.0</td>\n",
       "    </tr>\n",
       "    <tr>\n",
       "      <th>2129</th>\n",
       "      <td>92</td>\n",
       "      <td>729</td>\n",
       "      <td>180</td>\n",
       "      <td>2</td>\n",
       "      <td>credit_card</td>\n",
       "      <td>2017-03-03 17:26:32</td>\n",
       "      <td>90.0</td>\n",
       "    </tr>\n",
       "    <tr>\n",
       "      <th>1928</th>\n",
       "      <td>92</td>\n",
       "      <td>960</td>\n",
       "      <td>270</td>\n",
       "      <td>3</td>\n",
       "      <td>debit</td>\n",
       "      <td>2017-03-21 3:44:08</td>\n",
       "      <td>90.0</td>\n",
       "    </tr>\n",
       "  </tbody>\n",
       "</table>\n",
       "<p>5000 rows × 7 columns</p>\n",
       "</div>"
      ],
      "text/plain": [
       "          shop_id  user_id  order_amount  total_items payment_method  \\\n",
       "order_id                                                               \n",
       "4421           78      969         77175            3          debit   \n",
       "2907           78      817         77175            3          debit   \n",
       "4506           78      866         25725            1          debit   \n",
       "494            78      983         51450            2           cash   \n",
       "2453           78      709         51450            2           cash   \n",
       "...           ...      ...           ...          ...            ...   \n",
       "2715           92      905           180            2           cash   \n",
       "3916           92      760           180            2           cash   \n",
       "4761           92      937            90            1          debit   \n",
       "2129           92      729           180            2    credit_card   \n",
       "1928           92      960           270            3          debit   \n",
       "\n",
       "                   created_at  price_per_sneaker  \n",
       "order_id                                          \n",
       "4421      2017-03-09 15:21:35            25725.0  \n",
       "2907       2017-03-16 3:45:46            25725.0  \n",
       "4506      2017-03-22 22:06:01            25725.0  \n",
       "494       2017-03-16 21:39:35            25725.0  \n",
       "2453      2017-03-27 11:04:04            25725.0  \n",
       "...                       ...                ...  \n",
       "2715      2017-03-15 17:02:28               90.0  \n",
       "3916      2017-03-26 15:44:40               90.0  \n",
       "4761       2017-03-20 7:37:28               90.0  \n",
       "2129      2017-03-03 17:26:32               90.0  \n",
       "1928       2017-03-21 3:44:08               90.0  \n",
       "\n",
       "[5000 rows x 7 columns]"
      ]
     },
     "execution_count": 69,
     "metadata": {},
     "output_type": "execute_result"
    }
   ],
   "source": [
    "# We can see there is still some sneakers which are priced abnromally high\n",
    "# Digging deep to find out who are the culprits\n",
    "\n",
    "df.sort_values(by='price_per_sneaker', ascending=False)"
   ]
  },
  {
   "cell_type": "code",
   "execution_count": 70,
   "id": "ea0057b5",
   "metadata": {},
   "outputs": [
    {
     "data": {
      "text/plain": [
       "shop_id\n",
       "78     25725.0\n",
       "42       352.0\n",
       "12       201.0\n",
       "89       196.0\n",
       "99       195.0\n",
       "        ...   \n",
       "53       112.0\n",
       "100      111.0\n",
       "32       101.0\n",
       "2         94.0\n",
       "92        90.0\n",
       "Name: price_per_sneaker, Length: 100, dtype: float64"
      ]
     },
     "execution_count": 70,
     "metadata": {},
     "output_type": "execute_result"
    }
   ],
   "source": [
    "# Lets groupby the shop_id to get price_per_sneaker at each store\n",
    "\n",
    "temp = df.groupby(df['shop_id'])['price_per_sneaker'].mean()\n",
    "temp.sort_values(ascending= False)"
   ]
  },
  {
   "cell_type": "code",
   "execution_count": 71,
   "id": "27cecf6b",
   "metadata": {},
   "outputs": [
    {
     "data": {
      "text/plain": [
       "152.47557529269278"
      ]
     },
     "execution_count": 71,
     "metadata": {},
     "output_type": "execute_result"
    }
   ],
   "source": [
    "# We can see that store 78 is selling sneakers at $25,725\n",
    "# Are the selling sneakers made of diamonds or gold?\n",
    "# Lets drop the store 78, and get the average price_per_sneaker\n",
    "\n",
    "np.mean(df[df['shop_id']!= 78]['price_per_sneaker'])"
   ]
  },
  {
   "cell_type": "code",
   "execution_count": 72,
   "id": "615ee1e5",
   "metadata": {},
   "outputs": [
    {
     "data": {
      "text/plain": [
       "(array([4983.,    0.,    0.,    0.,    0.,    0.,    0.,    0.,    0.,\n",
       "          17.]),\n",
       " array([1.0000e+00, 2.0090e+02, 4.0080e+02, 6.0070e+02, 8.0060e+02,\n",
       "        1.0005e+03, 1.2004e+03, 1.4003e+03, 1.6002e+03, 1.8001e+03,\n",
       "        2.0000e+03]),\n",
       " <BarContainer object of 10 artists>)"
      ]
     },
     "execution_count": 72,
     "metadata": {},
     "output_type": "execute_result"
    },
    {
     "data": {
      "image/png": "[encoded data removed]",
      "text/plain": [
       "<Figure size 432x288 with 1 Axes>"
      ]
     },
     "metadata": {
      "needs_background": "light"
     },
     "output_type": "display_data"
    }
   ],
   "source": [
    "# Lets now look at the count of orders\n",
    "\n",
    "plt.hist(df['total_items'])"
   ]
  },
  {
   "cell_type": "code",
   "execution_count": 73,
   "id": "a5ef0181",
   "metadata": {},
   "outputs": [
    {
     "data": {
      "text/plain": [
       "order_id\n",
       "16      42\n",
       "61      42\n",
       "521     42\n",
       "1105    42\n",
       "1363    42\n",
       "1437    42\n",
       "1563    42\n",
       "1603    42\n",
       "2154    42\n",
       "2298    42\n",
       "2836    42\n",
       "2970    42\n",
       "3333    42\n",
       "4057    42\n",
       "4647    42\n",
       "4869    42\n",
       "4883    42\n",
       "Name: shop_id, dtype: int64"
      ]
     },
     "execution_count": 73,
     "metadata": {},
     "output_type": "execute_result"
    }
   ],
   "source": [
    "#There is a shop with abnormally high number of orders, lets dig depper\n",
    "\n",
    "df[df['total_items'] == 2000]['shop_id']"
   ]
  },
  {
   "cell_type": "code",
   "execution_count": 74,
   "id": "ba7cc996",
   "metadata": {},
   "outputs": [
    {
     "data": {
      "text/html": [
       "<div>\n",
       "<style scoped>\n",
       "    .dataframe tbody tr th:only-of-type {\n",
       "        vertical-align: middle;\n",
       "    }\n",
       "\n",
       "    .dataframe tbody tr th {\n",
       "        vertical-align: top;\n",
       "    }\n",
       "\n",
       "    .dataframe thead th {\n",
       "        text-align: right;\n",
       "    }\n",
       "</style>\n",
       "<table border=\"1\" class=\"dataframe\">\n",
       "  <thead>\n",
       "    <tr style=\"text-align: right;\">\n",
       "      <th></th>\n",
       "      <th>shop_id</th>\n",
       "      <th>user_id</th>\n",
       "      <th>order_amount</th>\n",
       "      <th>total_items</th>\n",
       "      <th>payment_method</th>\n",
       "      <th>created_at</th>\n",
       "      <th>price_per_sneaker</th>\n",
       "    </tr>\n",
       "    <tr>\n",
       "      <th>order_id</th>\n",
       "      <th></th>\n",
       "      <th></th>\n",
       "      <th></th>\n",
       "      <th></th>\n",
       "      <th></th>\n",
       "      <th></th>\n",
       "      <th></th>\n",
       "    </tr>\n",
       "  </thead>\n",
       "  <tbody>\n",
       "    <tr>\n",
       "      <th>2298</th>\n",
       "      <td>42</td>\n",
       "      <td>607</td>\n",
       "      <td>704000</td>\n",
       "      <td>2000</td>\n",
       "      <td>credit_card</td>\n",
       "      <td>2017-03-07 4:00:00</td>\n",
       "      <td>352.0</td>\n",
       "    </tr>\n",
       "    <tr>\n",
       "      <th>4057</th>\n",
       "      <td>42</td>\n",
       "      <td>607</td>\n",
       "      <td>704000</td>\n",
       "      <td>2000</td>\n",
       "      <td>credit_card</td>\n",
       "      <td>2017-03-28 4:00:00</td>\n",
       "      <td>352.0</td>\n",
       "    </tr>\n",
       "    <tr>\n",
       "      <th>521</th>\n",
       "      <td>42</td>\n",
       "      <td>607</td>\n",
       "      <td>704000</td>\n",
       "      <td>2000</td>\n",
       "      <td>credit_card</td>\n",
       "      <td>2017-03-02 4:00:00</td>\n",
       "      <td>352.0</td>\n",
       "    </tr>\n",
       "    <tr>\n",
       "      <th>3333</th>\n",
       "      <td>42</td>\n",
       "      <td>607</td>\n",
       "      <td>704000</td>\n",
       "      <td>2000</td>\n",
       "      <td>credit_card</td>\n",
       "      <td>2017-03-24 4:00:00</td>\n",
       "      <td>352.0</td>\n",
       "    </tr>\n",
       "    <tr>\n",
       "      <th>61</th>\n",
       "      <td>42</td>\n",
       "      <td>607</td>\n",
       "      <td>704000</td>\n",
       "      <td>2000</td>\n",
       "      <td>credit_card</td>\n",
       "      <td>2017-03-04 4:00:00</td>\n",
       "      <td>352.0</td>\n",
       "    </tr>\n",
       "    <tr>\n",
       "      <th>...</th>\n",
       "      <td>...</td>\n",
       "      <td>...</td>\n",
       "      <td>...</td>\n",
       "      <td>...</td>\n",
       "      <td>...</td>\n",
       "      <td>...</td>\n",
       "      <td>...</td>\n",
       "    </tr>\n",
       "    <tr>\n",
       "      <th>1409</th>\n",
       "      <td>16</td>\n",
       "      <td>807</td>\n",
       "      <td>156</td>\n",
       "      <td>1</td>\n",
       "      <td>cash</td>\n",
       "      <td>2017-03-07 4:04:28</td>\n",
       "      <td>156.0</td>\n",
       "    </tr>\n",
       "    <tr>\n",
       "      <th>3368</th>\n",
       "      <td>21</td>\n",
       "      <td>893</td>\n",
       "      <td>142</td>\n",
       "      <td>1</td>\n",
       "      <td>cash</td>\n",
       "      <td>2017-03-01 8:36:23</td>\n",
       "      <td>142.0</td>\n",
       "    </tr>\n",
       "    <tr>\n",
       "      <th>1411</th>\n",
       "      <td>97</td>\n",
       "      <td>832</td>\n",
       "      <td>162</td>\n",
       "      <td>1</td>\n",
       "      <td>debit</td>\n",
       "      <td>2017-03-13 4:40:51</td>\n",
       "      <td>162.0</td>\n",
       "    </tr>\n",
       "    <tr>\n",
       "      <th>3365</th>\n",
       "      <td>44</td>\n",
       "      <td>737</td>\n",
       "      <td>144</td>\n",
       "      <td>1</td>\n",
       "      <td>cash</td>\n",
       "      <td>2017-03-17 19:42:58</td>\n",
       "      <td>144.0</td>\n",
       "    </tr>\n",
       "    <tr>\n",
       "      <th>1148</th>\n",
       "      <td>46</td>\n",
       "      <td>712</td>\n",
       "      <td>166</td>\n",
       "      <td>1</td>\n",
       "      <td>credit_card</td>\n",
       "      <td>2017-03-28 23:57:54</td>\n",
       "      <td>166.0</td>\n",
       "    </tr>\n",
       "  </tbody>\n",
       "</table>\n",
       "<p>5000 rows × 7 columns</p>\n",
       "</div>"
      ],
      "text/plain": [
       "          shop_id  user_id  order_amount  total_items payment_method  \\\n",
       "order_id                                                               \n",
       "2298           42      607        704000         2000    credit_card   \n",
       "4057           42      607        704000         2000    credit_card   \n",
       "521            42      607        704000         2000    credit_card   \n",
       "3333           42      607        704000         2000    credit_card   \n",
       "61             42      607        704000         2000    credit_card   \n",
       "...           ...      ...           ...          ...            ...   \n",
       "1409           16      807           156            1           cash   \n",
       "3368           21      893           142            1           cash   \n",
       "1411           97      832           162            1          debit   \n",
       "3365           44      737           144            1           cash   \n",
       "1148           46      712           166            1    credit_card   \n",
       "\n",
       "                   created_at  price_per_sneaker  \n",
       "order_id                                          \n",
       "2298       2017-03-07 4:00:00              352.0  \n",
       "4057       2017-03-28 4:00:00              352.0  \n",
       "521        2017-03-02 4:00:00              352.0  \n",
       "3333       2017-03-24 4:00:00              352.0  \n",
       "61         2017-03-04 4:00:00              352.0  \n",
       "...                       ...                ...  \n",
       "1409       2017-03-07 4:04:28              156.0  \n",
       "3368       2017-03-01 8:36:23              142.0  \n",
       "1411       2017-03-13 4:40:51              162.0  \n",
       "3365      2017-03-17 19:42:58              144.0  \n",
       "1148      2017-03-28 23:57:54              166.0  \n",
       "\n",
       "[5000 rows x 7 columns]"
      ]
     },
     "execution_count": 74,
     "metadata": {},
     "output_type": "execute_result"
    }
   ],
   "source": [
    "# Lets explore the shop 42, and see if it doing any shady business practices\n",
    "\n",
    "df.sort_values(by='total_items', ascending=False)"
   ]
  },
  {
   "cell_type": "code",
   "execution_count": 75,
   "id": "b4b6d524",
   "metadata": {},
   "outputs": [],
   "source": [
    "# Here we can see that one person user_id = 607 bought many items though credit_card at shop 42 \n",
    "# I belive this is anomaly in the data and we ahve to remove it since, one person cant buy 6k+ shoes at once\n",
    "\n",
    "# Hence i am removing the shop 42 along with shop 78 from our dataset\n",
    "\n",
    "\n",
    "final_df = df[(df['shop_id'] != 42) & (df['shop_id'] != 78)]"
   ]
  },
  {
   "cell_type": "code",
   "execution_count": 76,
   "id": "0b28f415",
   "metadata": {},
   "outputs": [
    {
     "data": {
      "text/plain": [
       "150.40016316540894"
      ]
     },
     "execution_count": 76,
     "metadata": {},
     "output_type": "execute_result"
    }
   ],
   "source": [
    "np.mean(final_df['price_per_sneaker'])"
   ]
  },
  {
   "cell_type": "code",
   "execution_count": null,
   "id": "9e8d7b4b",
   "metadata": {},
   "outputs": [],
   "source": [
    "# The final value is 150.4001, which is about 150.4 dollars. \n",
    "# This value is not different from 152.4, which we got by removing the shop_id = 78"
   ]
  }
 ],
 "metadata": {
  "kernelspec": {
   "display_name": "Python 3 (ipykernel)",
   "language": "python",
   "name": "python3"
  },
  "language_info": {
   "codemirror_mode": {
    "name": "ipython",
    "version": 3
   },
   "file_extension": ".py",
   "mimetype": "text/x-python",
   "name": "python",
   "nbconvert_exporter": "python",
   "pygments_lexer": "ipython3",
   "version": "3.9.7"
  }
 },
 "nbformat": 4,
 "nbformat_minor": 5
}
